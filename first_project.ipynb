{
 "cells": [
  {
   "cell_type": "markdown",
   "metadata": {},
   "source": [
    "# The most sought after free apps.\n",
    "\n",
    "    This project is looks at which type of apps are more likely to attract the most users, given a couple parameters. The data it analyzis will focus on apps from the Google Play store and the Apple Store, In particular we will look at those apps which are free, and of those unpaid apps, which ones have a higher overall user ratings.\n",
    "    It is the goal of this project to show developers which apps are most worthy of time and money spent, as these types of apps are most likely to generate revenue through in-app ads. By looking at this data it should be easy to determine what kind of free, english speaking apps users prefer. "
   ]
  },
  {
   "cell_type": "markdown",
   "metadata": {},
   "source": [
    "**_First it is necessary to read in the csv files (data files) for the Google Play store and the Applestore_**"
   ]
  },
  {
   "cell_type": "code",
   "execution_count": 1,
   "metadata": {},
   "outputs": [],
   "source": [
    "from csv import reader\n",
    "\n",
    "opened_file = open('AppleStore.csv')\n",
    "read_file = reader(opened_file)\n",
    "ios = list(read_file)\n",
    "ios_header = ios[0]\n",
    "ios = ios[1:]\n",
    "\n",
    "opened_file = open('googleplaystore.csv')\n",
    "read_file = reader(opened_file)\n",
    "android = list(read_file)\n",
    "android_header = android[0]\n",
    "android = android[1:]"
   ]
  },
  {
   "cell_type": "markdown",
   "metadata": {},
   "source": [
    "**_Then create a function to explore the data in a manner in which is easy to analyze._**"
   ]
  },
  {
   "cell_type": "code",
   "execution_count": 2,
   "metadata": {},
   "outputs": [],
   "source": [
    "def explore_data(dataset, start, end, rows_and_columns=False):\n",
    "    dataset_slice = dataset[start:end]\n",
    "    for row in dataset_slice:\n",
    "        print(row)\n",
    "        print('\\n')\n",
    "        \n",
    "    if rows_and_columns:\n",
    "        print('Number of rows: ', len(dataset))\n",
    "        print('Number of columns', len(dataset[0]))"
   ]
  },
  {
   "cell_type": "markdown",
   "metadata": {},
   "source": [
    "**_Call the function, call again without parameters but set rows_and_colums to True so we get a total count for each data set_**"
   ]
  },
  {
   "cell_type": "code",
   "execution_count": 3,
   "metadata": {},
   "outputs": [
    {
     "name": "stdout",
     "output_type": "stream",
     "text": [
      "['1', '281656475', 'PAC-MAN Premium', '100788224', 'USD', '3.99', '21292', '26', '4', '4.5', '6.3.5', '4+', 'Games', '38', '5', '10', '1']\n",
      "\n",
      "\n",
      "['2', '281796108', 'Evernote - stay organized', '158578688', 'USD', '0', '161065', '26', '4', '3.5', '8.2.2', '4+', 'Productivity', '37', '5', '23', '1']\n",
      "\n",
      "\n",
      "['3', '281940292', 'WeatherBug - Local Weather, Radar, Maps, Alerts', '100524032', 'USD', '0', '188583', '2822', '3.5', '4.5', '5.0.0', '4+', 'Weather', '37', '5', '3', '1']\n",
      "\n",
      "\n",
      "['Photo Editor & Candy Camera & Grid & ScrapBook', 'ART_AND_DESIGN', '4.1', '159', '19M', '10,000+', 'Free', '0', 'Everyone', 'Art & Design', 'January 7, 2018', '1.0.0', '4.0.3 and up']\n",
      "\n",
      "\n",
      "['Coloring book moana', 'ART_AND_DESIGN', '3.9', '967', '14M', '500,000+', 'Free', '0', 'Everyone', 'Art & Design;Pretend Play', 'January 15, 2018', '2.0.0', '4.0.3 and up']\n",
      "\n",
      "\n",
      "['U Launcher Lite – FREE Live Cool Themes, Hide Apps', 'ART_AND_DESIGN', '4.7', '87510', '8.7M', '5,000,000+', 'Free', '0', 'Everyone', 'Art & Design', 'August 1, 2018', '1.2.4', '4.0.3 and up']\n",
      "\n",
      "\n"
     ]
    }
   ],
   "source": [
    "explore_data(ios,0,3)\n",
    "explore_data(android,0,3)"
   ]
  },
  {
   "cell_type": "code",
   "execution_count": 4,
   "metadata": {},
   "outputs": [
    {
     "name": "stdout",
     "output_type": "stream",
     "text": [
      "Number of rows:  7197\n",
      "Number of columns 17\n",
      "Number of rows:  10841\n",
      "Number of columns 13\n"
     ]
    }
   ],
   "source": [
    "explore_data(ios,0,0,True)\n",
    "explore_data(android,0,0,True)"
   ]
  },
  {
   "cell_type": "markdown",
   "metadata": {},
   "source": [
    "**_Next we will show the names of each column so we can understand the data we are looking at !_**"
   ]
  },
  {
   "cell_type": "code",
   "execution_count": 5,
   "metadata": {},
   "outputs": [
    {
     "name": "stdout",
     "output_type": "stream",
     "text": [
      "['App', 'Category', 'Rating', 'Reviews', 'Size', 'Installs', 'Type', 'Price', 'Content Rating', 'Genres', 'Last Updated', 'Current Ver', 'Android Ver']\n",
      "\n",
      "\n",
      "['', 'id', 'track_name', 'size_bytes', 'currency', 'price', 'rating_count_tot', 'rating_count_ver', 'user_rating', 'user_rating_ver', 'ver', 'cont_rating', 'prime_genre', 'sup_devices.num', 'ipadSc_urls.num', 'lang.num', 'vpp_lic']\n"
     ]
    }
   ],
   "source": [
    "print(android_header)\n",
    "print('\\n')\n",
    "print(ios_header)"
   ]
  },
  {
   "cell_type": "markdown",
   "metadata": {},
   "source": [
    "This link contains the description of each column in the Apple Store data [https://www.kaggle.com/ramamet4/app-store-apple-data-set-10k-apps/data#appleStore_description.csv]\n",
    "\n",
    "This link contains the description of each column in the Google Play Store data\n",
    "\n",
    "[https://www.kaggle.com/lava18/google-play-store-apps#googleplaystore.csv]\n"
   ]
  },
  {
   "cell_type": "markdown",
   "metadata": {},
   "source": [
    "**_A quick search into what others have found with this dataset shows row 10472 as being incorrectly indexed, therefore would simply skew data or possible keep some of our code from running properly, lets remove it !_**"
   ]
  },
  {
   "cell_type": "code",
   "execution_count": 6,
   "metadata": {},
   "outputs": [],
   "source": [
    "del android[10472]"
   ]
  },
  {
   "cell_type": "markdown",
   "metadata": {},
   "source": [
    "**_Here we will search for duplicate app entries and display a sample of these_**\n"
   ]
  },
  {
   "cell_type": "code",
   "execution_count": 7,
   "metadata": {},
   "outputs": [
    {
     "name": "stdout",
     "output_type": "stream",
     "text": [
      "Number of duplicated apps:  1181\n",
      "\n",
      "\n",
      "Examples of duplicated apps:  ['Quick PDF Scanner + OCR FREE', 'Box', 'Google My Business', 'ZOOM Cloud Meetings', 'join.me - Simple Meetings', 'Box', 'Zenefits', 'Google Ads', 'Google My Business', 'Slack', 'FreshBooks Classic', 'Insightly CRM', 'QuickBooks Accounting: Invoicing & Expenses', 'HipChat - Chat Built for Teams', 'Xero Accounting Software']\n"
     ]
    }
   ],
   "source": [
    "duplicated = []\n",
    "unique = []\n",
    "\n",
    "for app in android:\n",
    "    name = app[0]\n",
    "    if name in unique:\n",
    "        duplicated.append(name)\n",
    "    else:\n",
    "        unique.append(name)\n",
    "        \n",
    "print('Number of duplicated apps: ', len(duplicated))\n",
    "print('\\n')\n",
    "print('Examples of duplicated apps: ', duplicated[:15])"
   ]
  },
  {
   "cell_type": "markdown",
   "metadata": {},
   "source": [
    "**_In an attempt to get the best general view of the preferences of users, the entry with the most reviews will be used in the analysis. Here is how to remove the duplicates_** "
   ]
  },
  {
   "cell_type": "code",
   "execution_count": 8,
   "metadata": {},
   "outputs": [],
   "source": [
    "reviews_max = {}\n",
    "\n",
    "for app in android:\n",
    "    name = app[0]\n",
    "    n_reviews = float(app[3])\n",
    "    \n",
    "    if name in reviews_max and reviews_max[name] < n_reviews:\n",
    "        reviews_max[name] = n_reviews\n",
    "        \n",
    "    elif name not in reviews_max:\n",
    "        reviews_max[name] = n_reviews"
   ]
  },
  {
   "cell_type": "markdown",
   "metadata": {},
   "source": [
    "**_check to see that the expected length matches the actual length after running the code. Then, clean the data some more!_**"
   ]
  },
  {
   "cell_type": "code",
   "execution_count": 9,
   "metadata": {},
   "outputs": [
    {
     "name": "stdout",
     "output_type": "stream",
     "text": [
      "Expected length: 9659\n",
      "Actual length: 9659\n"
     ]
    }
   ],
   "source": [
    "print('Expected length:', len(android) - 1181)\n",
    "print('Actual length:', len(reviews_max))"
   ]
  },
  {
   "cell_type": "code",
   "execution_count": 10,
   "metadata": {},
   "outputs": [],
   "source": [
    "android_clean = []\n",
    "already_added = []\n",
    "\n",
    "for app in android:\n",
    "    name = app[0]\n",
    "    n_reviews = float(app[3])\n",
    "    \n",
    "    if (n_reviews == reviews_max[name]) and (name not in already_added):\n",
    "        android_clean.append(app)\n",
    "        already_added.append(name)"
   ]
  },
  {
   "cell_type": "code",
   "execution_count": 11,
   "metadata": {
    "scrolled": true
   },
   "outputs": [
    {
     "name": "stdout",
     "output_type": "stream",
     "text": [
      "['Photo Editor & Candy Camera & Grid & ScrapBook', 'ART_AND_DESIGN', '4.1', '159', '19M', '10,000+', 'Free', '0', 'Everyone', 'Art & Design', 'January 7, 2018', '1.0.0', '4.0.3 and up']\n",
      "\n",
      "\n",
      "['U Launcher Lite – FREE Live Cool Themes, Hide Apps', 'ART_AND_DESIGN', '4.7', '87510', '8.7M', '5,000,000+', 'Free', '0', 'Everyone', 'Art & Design', 'August 1, 2018', '1.2.4', '4.0.3 and up']\n",
      "\n",
      "\n",
      "['Sketch - Draw & Paint', 'ART_AND_DESIGN', '4.5', '215644', '25M', '50,000,000+', 'Free', '0', 'Teen', 'Art & Design', 'June 8, 2018', 'Varies with device', '4.2 and up']\n",
      "\n",
      "\n",
      "['Pixel Draw - Number Art Coloring Book', 'ART_AND_DESIGN', '4.3', '967', '2.8M', '100,000+', 'Free', '0', 'Everyone', 'Art & Design;Creativity', 'June 20, 2018', '1.1', '4.4 and up']\n",
      "\n",
      "\n",
      "['Paper flowers instructions', 'ART_AND_DESIGN', '4.4', '167', '5.6M', '50,000+', 'Free', '0', 'Everyone', 'Art & Design', 'March 26, 2017', '1.0', '2.3 and up']\n",
      "\n",
      "\n",
      "['Smoke Effect Photo Maker - Smoke Editor', 'ART_AND_DESIGN', '3.8', '178', '19M', '50,000+', 'Free', '0', 'Everyone', 'Art & Design', 'April 26, 2018', '1.1', '4.0.3 and up']\n",
      "\n",
      "\n",
      "Number of rows:  9659\n",
      "Number of columns 13\n"
     ]
    }
   ],
   "source": [
    "explore_data(android_clean, 0, 6, True)\n"
   ]
  },
  {
   "cell_type": "markdown",
   "metadata": {},
   "source": [
    "**_Above two blank lists have been created, one called android_clean and the other already_added. This places the row of information about an app in the android_clean list and the name of the app in the already_added list, this will ensure that if an app with multiple entries also has as its highest rating the same entry multiple times, the app name is added only once._**\n"
   ]
  },
  {
   "cell_type": "markdown",
   "metadata": {},
   "source": [
    "**_The company wanting this data only creates apps that are free and in the english language, so again the data is cleaned, removing apps that are not in the english language, this is done by accepting only apps with no more than three characters above ASCII 127, this may eliminate some apps that are english speaking and use say more than three emoji's in the name but this will not be the majority of the apps and the data will aproximate closer to the companies wishes._**"
   ]
  },
  {
   "cell_type": "code",
   "execution_count": 12,
   "metadata": {},
   "outputs": [],
   "source": [
    "\n",
    "def is_english(a_string):\n",
    "    char_above = 0  \n",
    "    \n",
    "    for char in (a_string):\n",
    "        if ord(char) > 127:\n",
    "            char_above += 1\n",
    "            \n",
    "        if char_above > 3:\n",
    "            return False  \n",
    "    else:\n",
    "        return True\n",
    "\n"
   ]
  },
  {
   "cell_type": "code",
   "execution_count": 13,
   "metadata": {},
   "outputs": [
    {
     "name": "stdout",
     "output_type": "stream",
     "text": [
      "['Photo Editor & Candy Camera & Grid & ScrapBook', 'ART_AND_DESIGN', '4.1', '159', '19M', '10,000+', 'Free', '0', 'Everyone', 'Art & Design', 'January 7, 2018', '1.0.0', '4.0.3 and up']\n",
      "\n",
      "\n",
      "['U Launcher Lite – FREE Live Cool Themes, Hide Apps', 'ART_AND_DESIGN', '4.7', '87510', '8.7M', '5,000,000+', 'Free', '0', 'Everyone', 'Art & Design', 'August 1, 2018', '1.2.4', '4.0.3 and up']\n",
      "\n",
      "\n",
      "['Sketch - Draw & Paint', 'ART_AND_DESIGN', '4.5', '215644', '25M', '50,000,000+', 'Free', '0', 'Teen', 'Art & Design', 'June 8, 2018', 'Varies with device', '4.2 and up']\n",
      "\n",
      "\n",
      "Number of rows:  9614\n",
      "Number of columns 13\n",
      "['1', '281656475', 'PAC-MAN Premium', '100788224', 'USD', '3.99', '21292', '26', '4', '4.5', '6.3.5', '4+', 'Games', '38', '5', '10', '1']\n",
      "\n",
      "\n",
      "['2', '281796108', 'Evernote - stay organized', '158578688', 'USD', '0', '161065', '26', '4', '3.5', '8.2.2', '4+', 'Productivity', '37', '5', '23', '1']\n",
      "\n",
      "\n",
      "['3', '281940292', 'WeatherBug - Local Weather, Radar, Maps, Alerts', '100524032', 'USD', '0', '188583', '2822', '3.5', '4.5', '5.0.0', '4+', 'Weather', '37', '5', '3', '1']\n",
      "\n",
      "\n",
      "Number of rows:  6183\n",
      "Number of columns 17\n"
     ]
    }
   ],
   "source": [
    "android_english = []\n",
    "ios_english = []\n",
    "for app in android_clean:\n",
    "    name = app[0]\n",
    "    if is_english(name):\n",
    "        android_english.append(app)\n",
    "        \n",
    "for app in ios:\n",
    "    name = app[2]\n",
    "    if is_english(name):\n",
    "        ios_english.append(app)\n",
    "    \n",
    "explore_data(android_english,0, 3, True)\n",
    "explore_data(ios_english,0, 3, True)\n"
   ]
  },
  {
   "cell_type": "code",
   "execution_count": 14,
   "metadata": {},
   "outputs": [],
   "source": [
    "android_free = []\n",
    "ios_free = []\n",
    "\n",
    "for app in android_english:\n",
    "    price = app[7]\n",
    "    if price == '0':\n",
    "        android_free.append(app)\n",
    "        \n",
    "for app in ios_english:\n",
    "    price = app[5]\n",
    "    if price == '0':\n",
    "        ios_free.append(app)"
   ]
  },
  {
   "cell_type": "code",
   "execution_count": 15,
   "metadata": {},
   "outputs": [
    {
     "name": "stdout",
     "output_type": "stream",
     "text": [
      "['U Launcher Lite – FREE Live Cool Themes, Hide Apps', 'ART_AND_DESIGN', '4.7', '87510', '8.7M', '5,000,000+', 'Free', '0', 'Everyone', 'Art & Design', 'August 1, 2018', '1.2.4', '4.0.3 and up']\n",
      "\n",
      "\n",
      "['Sketch - Draw & Paint', 'ART_AND_DESIGN', '4.5', '215644', '25M', '50,000,000+', 'Free', '0', 'Teen', 'Art & Design', 'June 8, 2018', 'Varies with device', '4.2 and up']\n",
      "\n",
      "\n",
      "['Pixel Draw - Number Art Coloring Book', 'ART_AND_DESIGN', '4.3', '967', '2.8M', '100,000+', 'Free', '0', 'Everyone', 'Art & Design;Creativity', 'June 20, 2018', '1.1', '4.4 and up']\n",
      "\n",
      "\n",
      "Number of rows:  8864\n",
      "Number of columns 13\n",
      "['3', '281940292', 'WeatherBug - Local Weather, Radar, Maps, Alerts', '100524032', 'USD', '0', '188583', '2822', '3.5', '4.5', '5.0.0', '4+', 'Weather', '37', '5', '3', '1']\n",
      "\n",
      "\n",
      "['4', '282614216', 'eBay: Best App to Buy, Sell, Save! Online Shopping', '128512000', 'USD', '0', '262241', '649', '4', '4.5', '5.10.0', '12+', 'Shopping', '37', '5', '9', '1']\n",
      "\n",
      "\n",
      "['5', '282935706', 'Bible', '92774400', 'USD', '0', '985920', '5320', '4.5', '5', '7.5.1', '4+', 'Reference', '37', '5', '45', '1']\n",
      "\n",
      "\n",
      "Number of rows:  3222\n",
      "Number of columns 17\n"
     ]
    }
   ],
   "source": [
    "explore_data(android_free, 1, 4, True)\n",
    "explore_data(ios_free, 1, 4, True)\n",
    "\n",
    "\n"
   ]
  },
  {
   "cell_type": "markdown",
   "metadata": {},
   "source": [
    "**_Now that the data is cleaned, a frequency table is generated in order to analyze the data, below is the function used to create the frequency table._**"
   ]
  },
  {
   "cell_type": "code",
   "execution_count": 16,
   "metadata": {},
   "outputs": [],
   "source": [
    "\n",
    "def freq_table(dataset, index):\n",
    "    table = {}\n",
    "    total = 0\n",
    "    \n",
    "    for row in dataset:\n",
    "        total += 1 \n",
    "        value = row[index]\n",
    "        if value in table:\n",
    "            table[value] += 1 \n",
    "        else:\n",
    "            table[value] = 1\n",
    "            \n",
    "    table_percentages = {}\n",
    "    for key in table:\n",
    "        percentage = (table[key] / total) * 100\n",
    "        table_percentages[key] = percentage\n",
    "        \n",
    "    return table_percentages\n",
    "    \n",
    "\n",
    "def display_table(dataset, index):\n",
    "    table = freq_table(dataset, index)\n",
    "    table_display = []\n",
    "    for key in table:\n",
    "        key_val_as_tuple = (table[key], key)\n",
    "        table_display.append(key_val_as_tuple)\n",
    "\n",
    "    table_sorted = sorted(table_display, reverse = True)\n",
    "    for entry in table_sorted:\n",
    "        print(entry[1], ':', entry[0])"
   ]
  },
  {
   "cell_type": "code",
   "execution_count": 17,
   "metadata": {},
   "outputs": [
    {
     "name": "stdout",
     "output_type": "stream",
     "text": [
      "Games : 53.66124774211477\n",
      "Entertainment : 7.433652910935113\n",
      "Education : 6.294289287203002\n",
      "Photo & Video : 4.849242740030569\n",
      "Utilities : 3.4458802278727245\n",
      "Health & Fitness : 2.501042100875365\n",
      "Productivity : 2.473252744198972\n",
      "Social Networking : 2.3204112824788106\n",
      "Lifestyle : 2.0008336807002918\n",
      "Music : 1.9174656106711132\n",
      "Shopping : 1.6951507572599693\n",
      "Sports : 1.5839933305543976\n",
      "Book : 1.5562039738780047\n",
      "Finance : 1.445046547172433\n",
      "Travel : 1.1254689453939142\n",
      "News : 1.0421008753647354\n",
      "Weather : 1.0004168403501459\n",
      "Reference : 0.8892594136445742\n",
      "Food & Drink : 0.8753647353063776\n",
      "Business : 0.7919966652771988\n",
      "Navigation : 0.6391552035570377\n",
      "Medical : 0.31957760177851885\n",
      "Catalogs : 0.1389467833819647\n"
     ]
    }
   ],
   "source": [
    "display_table(ios, -5)"
   ]
  },
  {
   "cell_type": "code",
   "execution_count": 18,
   "metadata": {},
   "outputs": [
    {
     "name": "stdout",
     "output_type": "stream",
     "text": [
      "FAMILY : 18.19188191881919\n",
      "GAME : 10.55350553505535\n",
      "TOOLS : 7.776752767527675\n",
      "MEDICAL : 4.271217712177122\n",
      "BUSINESS : 4.243542435424354\n",
      "PRODUCTIVITY : 3.911439114391144\n",
      "PERSONALIZATION : 3.616236162361624\n",
      "COMMUNICATION : 3.5701107011070112\n",
      "SPORTS : 3.5424354243542435\n",
      "LIFESTYLE : 3.5239852398523985\n",
      "FINANCE : 3.3763837638376386\n",
      "HEALTH_AND_FITNESS : 3.1457564575645756\n",
      "PHOTOGRAPHY : 3.0904059040590406\n",
      "SOCIAL : 2.7214022140221403\n",
      "NEWS_AND_MAGAZINES : 2.61070110701107\n",
      "SHOPPING : 2.3985239852398523\n",
      "TRAVEL_AND_LOCAL : 2.3800738007380073\n",
      "DATING : 2.158671586715867\n",
      "BOOKS_AND_REFERENCE : 2.1309963099630997\n",
      "VIDEO_PLAYERS : 1.6143911439114391\n",
      "EDUCATION : 1.4391143911439115\n",
      "ENTERTAINMENT : 1.3745387453874538\n",
      "MAPS_AND_NAVIGATION : 1.2638376383763839\n",
      "FOOD_AND_DRINK : 1.1715867158671587\n",
      "HOUSE_AND_HOME : 0.8118081180811807\n",
      "LIBRARIES_AND_DEMO : 0.7841328413284132\n",
      "AUTO_AND_VEHICLES : 0.7841328413284132\n",
      "WEATHER : 0.7564575645756457\n",
      "ART_AND_DESIGN : 0.5996309963099631\n",
      "EVENTS : 0.5904059040590406\n",
      "PARENTING : 0.5535055350553505\n",
      "COMICS : 0.5535055350553505\n",
      "BEAUTY : 0.488929889298893\n"
     ]
    }
   ],
   "source": [
    "display_table(android, 1)"
   ]
  },
  {
   "cell_type": "code",
   "execution_count": 19,
   "metadata": {
    "scrolled": false
   },
   "outputs": [
    {
     "name": "stdout",
     "output_type": "stream",
     "text": [
      "Tools : 7.767527675276753\n",
      "Entertainment : 5.747232472324723\n",
      "Education : 5.064575645756458\n",
      "Medical : 4.271217712177122\n",
      "Business : 4.243542435424354\n",
      "Productivity : 3.911439114391144\n",
      "Sports : 3.671586715867159\n",
      "Personalization : 3.616236162361624\n",
      "Communication : 3.5701107011070112\n",
      "Lifestyle : 3.5147601476014763\n",
      "Finance : 3.3763837638376386\n",
      "Action : 3.367158671586716\n",
      "Health & Fitness : 3.1457564575645756\n",
      "Photography : 3.0904059040590406\n",
      "Social : 2.7214022140221403\n",
      "News & Magazines : 2.61070110701107\n",
      "Shopping : 2.3985239852398523\n",
      "Travel & Local : 2.370848708487085\n",
      "Dating : 2.158671586715867\n",
      "Books & Reference : 2.1309963099630997\n",
      "Arcade : 2.029520295202952\n",
      "Simulation : 1.8450184501845017\n",
      "Casual : 1.7804428044280445\n",
      "Video Players & Editors : 1.595940959409594\n",
      "Puzzle : 1.2915129151291513\n",
      "Maps & Navigation : 1.2638376383763839\n",
      "Food & Drink : 1.1715867158671587\n",
      "Role Playing : 1.0055350553505535\n",
      "Strategy : 0.9870848708487084\n",
      "Racing : 0.904059040590406\n",
      "House & Home : 0.8118081180811807\n",
      "Libraries & Demo : 0.7841328413284132\n",
      "Auto & Vehicles : 0.7841328413284132\n",
      "Weather : 0.7564575645756457\n",
      "Adventure : 0.6918819188191881\n",
      "Events : 0.5904059040590406\n",
      "Comics : 0.544280442804428\n",
      "Art & Design : 0.5350553505535056\n",
      "Beauty : 0.488929889298893\n",
      "Education;Education : 0.46125461254612543\n",
      "Card : 0.44280442804428044\n",
      "Parenting : 0.4243542435424354\n",
      "Board : 0.40590405904059035\n",
      "Educational;Education : 0.37822878228782286\n",
      "Casino : 0.35977859778597787\n",
      "Trivia : 0.3505535055350553\n",
      "Educational : 0.3413284132841329\n",
      "Casual;Pretend Play : 0.2859778597785978\n",
      "Word : 0.2675276752767528\n",
      "Entertainment;Music & Video : 0.24907749077490776\n",
      "Education;Pretend Play : 0.2121771217712177\n",
      "Music : 0.20295202952029517\n",
      "Casual;Action & Adventure : 0.1937269372693727\n",
      "Racing;Action & Adventure : 0.18450184501845018\n",
      "Puzzle;Brain Games : 0.17527675276752766\n",
      "Educational;Pretend Play : 0.17527675276752766\n",
      "Action;Action & Adventure : 0.15682656826568267\n",
      "Arcade;Action & Adventure : 0.14760147601476015\n",
      "Board;Brain Games : 0.13837638376383762\n",
      "Casual;Brain Games : 0.11992619926199262\n",
      "Adventure;Action & Adventure : 0.11992619926199262\n",
      "Simulation;Action & Adventure : 0.10147601476014759\n",
      "Entertainment;Brain Games : 0.07380073800738007\n",
      "Role Playing;Action & Adventure : 0.06457564575645756\n",
      "Parenting;Education : 0.06457564575645756\n",
      "Education;Creativity : 0.06457564575645756\n",
      "Casual;Creativity : 0.06457564575645756\n",
      "Art & Design;Creativity : 0.06457564575645756\n",
      "Parenting;Music & Video : 0.055350553505535055\n",
      "Educational;Brain Games : 0.055350553505535055\n",
      "Education;Action & Adventure : 0.055350553505535055\n",
      "Role Playing;Pretend Play : 0.046125461254612546\n",
      "Puzzle;Action & Adventure : 0.046125461254612546\n",
      "Educational;Creativity : 0.046125461254612546\n",
      "Education;Music & Video : 0.046125461254612546\n",
      "Education;Brain Games : 0.046125461254612546\n",
      "Sports;Action & Adventure : 0.03690036900369004\n",
      "Simulation;Pretend Play : 0.03690036900369004\n",
      "Educational;Action & Adventure : 0.03690036900369004\n",
      "Video Players & Editors;Music & Video : 0.027675276752767528\n",
      "Simulation;Education : 0.027675276752767528\n",
      "Music;Music & Video : 0.027675276752767528\n",
      "Entertainment;Creativity : 0.027675276752767528\n",
      "Entertainment;Action & Adventure : 0.027675276752767528\n",
      "Casual;Education : 0.027675276752767528\n",
      "Board;Action & Adventure : 0.027675276752767528\n",
      "Video Players & Editors;Creativity : 0.01845018450184502\n",
      "Strategy;Action & Adventure : 0.01845018450184502\n",
      "Puzzle;Creativity : 0.01845018450184502\n",
      "Entertainment;Pretend Play : 0.01845018450184502\n",
      "Casual;Music & Video : 0.01845018450184502\n",
      "Card;Action & Adventure : 0.01845018450184502\n",
      "Books & Reference;Education : 0.01845018450184502\n",
      "Art & Design;Pretend Play : 0.01845018450184502\n",
      "Art & Design;Action & Adventure : 0.01845018450184502\n",
      "Adventure;Education : 0.01845018450184502\n",
      "Trivia;Education : 0.00922509225092251\n",
      "Travel & Local;Action & Adventure : 0.00922509225092251\n",
      "Tools;Education : 0.00922509225092251\n",
      "Strategy;Education : 0.00922509225092251\n",
      "Strategy;Creativity : 0.00922509225092251\n",
      "Role Playing;Education : 0.00922509225092251\n",
      "Role Playing;Brain Games : 0.00922509225092251\n",
      "Racing;Pretend Play : 0.00922509225092251\n",
      "Puzzle;Education : 0.00922509225092251\n",
      "Parenting;Brain Games : 0.00922509225092251\n",
      "Music & Audio;Music & Video : 0.00922509225092251\n",
      "Lifestyle;Pretend Play : 0.00922509225092251\n",
      "Lifestyle;Education : 0.00922509225092251\n",
      "Health & Fitness;Education : 0.00922509225092251\n",
      "Health & Fitness;Action & Adventure : 0.00922509225092251\n",
      "Entertainment;Education : 0.00922509225092251\n",
      "Communication;Creativity : 0.00922509225092251\n",
      "Comics;Creativity : 0.00922509225092251\n",
      "Card;Brain Games : 0.00922509225092251\n",
      "Books & Reference;Creativity : 0.00922509225092251\n",
      "Board;Pretend Play : 0.00922509225092251\n",
      "Arcade;Pretend Play : 0.00922509225092251\n",
      "Adventure;Brain Games : 0.00922509225092251\n"
     ]
    }
   ],
   "source": [
    "display_table(android, -4)"
   ]
  },
  {
   "cell_type": "markdown",
   "metadata": {},
   "source": [
    "**_Looking through the data from the App store we can see that the most common apps which are free and for english speakers are games at 55% with the next most common genres being Entertainment, photo & video, and social networking. These results simply show that there are more games on the app store but does not necessarily mean there are more useres of these apps._**"
   ]
  },
  {
   "cell_type": "markdown",
   "metadata": {},
   "source": [
    "**_Looking through the data from the Google Play Store we see Tools as the top genre, with Entertainment coming in second. But as we take a closer look at the data we see that the google play store has many more genres and specifically much of what may be classified as \"games\" are divided into various specified genres. Where an app in the genre tools may be at the top of this list it does not garauntee that users are using these apps more often. We may also want to add the various games genres to one statistic and see if it approximates to what we see in the App store._**"
   ]
  },
  {
   "cell_type": "code",
   "execution_count": 20,
   "metadata": {},
   "outputs": [
    {
     "data": {
      "text/plain": [
       "{'Productivity': 1.7380509000620732,\n",
       " 'Weather': 0.8690254500310366,\n",
       " 'Shopping': 2.60707635009311,\n",
       " 'Reference': 0.5586592178770949,\n",
       " 'Finance': 1.1173184357541899,\n",
       " 'Music': 2.0484171322160147,\n",
       " 'Utilities': 2.5139664804469275,\n",
       " 'Travel': 1.2414649286157666,\n",
       " 'Social Networking': 3.2898820608317814,\n",
       " 'Sports': 2.1415270018621975,\n",
       " 'Health & Fitness': 2.0173805090006205,\n",
       " 'Games': 58.16263190564867,\n",
       " 'Food & Drink': 0.8069522036002483,\n",
       " 'News': 1.3345747982619491,\n",
       " 'Book': 0.4345127250155183,\n",
       " 'Photo & Video': 4.9658597144630665,\n",
       " 'Entertainment': 7.883302296710118,\n",
       " 'Business': 0.5276225946617008,\n",
       " 'Lifestyle': 1.5828677839851024,\n",
       " 'Education': 3.662321539416512,\n",
       " 'Navigation': 0.186219739292365,\n",
       " 'Medical': 0.186219739292365,\n",
       " 'Catalogs': 0.12414649286157665}"
      ]
     },
     "execution_count": 20,
     "metadata": {},
     "output_type": "execute_result"
    }
   ],
   "source": [
    "freq_table(ios_free, -5)"
   ]
  },
  {
   "cell_type": "code",
   "execution_count": 21,
   "metadata": {},
   "outputs": [
    {
     "name": "stdout",
     "output_type": "stream",
     "text": [
      "Productivity : 249.16071428571428\n",
      "Weather : 1798.5\n",
      "Shopping : 1029.357142857143\n",
      "Reference : 2746.5555555555557\n",
      "Finance : 697.2222222222222\n",
      "Music : 628.0757575757576\n",
      "Utilities : 2175.9876543209875\n",
      "Travel : 244.075\n",
      "Social Networking : 867.8584905660377\n",
      "Sports : 202.91304347826087\n",
      "Health & Fitness : 273.5846153846154\n",
      "Games : 733.897545357524\n",
      "Food & Drink : 755.8076923076923\n",
      "News : 83.65116279069767\n",
      "Book : 485.42857142857144\n",
      "Photo & Video : 435.7375\n",
      "Entertainment : 233.68897637795277\n",
      "Business : 216.0\n",
      "Lifestyle : 1856.4313725490197\n",
      "Education : 764.3644067796611\n",
      "Navigation : 749.5\n",
      "Medical : 48.5\n",
      "Catalogs : 820.75\n"
     ]
    }
   ],
   "source": [
    "genres_ios = freq_table(ios_free, -5)\n",
    "\n",
    "for genre in genres_ios:\n",
    "    total = 0 \n",
    "    len_genre = 0\n",
    "    for app in ios_free:\n",
    "        genre_app = app[-5]\n",
    "        if genre_app == genre:\n",
    "            n_ratings = float(app[7])\n",
    "            total += n_ratings\n",
    "            len_genre += 1 \n",
    "    avg_n_ratings = total / len_genre\n",
    "    print(genre, ':', avg_n_ratings)"
   ]
  },
  {
   "cell_type": "code",
   "execution_count": 22,
   "metadata": {},
   "outputs": [
    {
     "name": "stdout",
     "output_type": "stream",
     "text": [
      "Bible : 5320\n",
      "Dictionary.com Dictionary & Thesaurus : 177\n",
      "Dictionary.com Dictionary & Thesaurus for iPad : 10176\n",
      "Muslim Pro: Ramadan 2017 Prayer Times, Azan, Quran : 706\n",
      "Merriam-Webster Dictionary : 1125\n",
      "Google Translate : 27\n",
      "Night Sky : 60\n",
      "WWDC : 7\n",
      "Jishokun-Japanese English Dictionary & Translator : 0\n",
      "教えて!goo : 0\n",
      "VPN Express : 1\n",
      "New Furniture Mods - Pocket Wiki & Game Tools for Minecraft PC Edition : 17588\n",
      "LUCKY BLOCK MOD ™ for Minecraft PC Edition - The Best Pocket Wiki & Mods Installer Tools : 4693\n",
      "Guides for Pokémon GO - Pokemon GO News and Cheats : 58\n",
      "Horror Maps for Minecraft PE - Download The Scariest Maps for Minecraft Pocket Edition (MCPE) Free : 718\n",
      "City Maps for Minecraft PE - The Best Maps for Minecraft Pocket Edition (MCPE) : 8535\n",
      "GUNS MODS for Minecraft PC Edition - Mods Tools : 245\n",
      "Real Bike Traffic Rider Virtual Reality Glasses : 2\n"
     ]
    }
   ],
   "source": [
    "for app in ios_free:\n",
    "    if app[-5] == 'Reference':\n",
    "        print(app[2], ':', app[7])"
   ]
  },
  {
   "cell_type": "markdown",
   "metadata": {},
   "source": [
    "**_Looking at the data for the App Store, I would suggest the best app to create, based on the ratings, would be a reference app. Perhaps an app with references to the most popular phrases or quotes from books most often studied in high school and college english courses. Revenue for the company would be based on in app ads, perhaps ads to online bookstores or an amazon purchase link for each book _**"
   ]
  },
  {
   "cell_type": "markdown",
   "metadata": {},
   "source": [
    "**_Compare this with the frequency tables created from the Google Play store, disregarding some of the higher ratings such social media of which the top players are pretty set in that game, books and references has a lot of ratings leaving the phrase and quote app as a good possiblity with the Google Play store as well._**"
   ]
  },
  {
   "cell_type": "code",
   "execution_count": 23,
   "metadata": {},
   "outputs": [
    {
     "name": "stdout",
     "output_type": "stream",
     "text": [
      "ART_AND_DESIGN : 1986335.0877192982\n",
      "AUTO_AND_VEHICLES : 647317.8170731707\n",
      "BEAUTY : 513151.88679245283\n",
      "BOOKS_AND_REFERENCE : 8767811.894736841\n",
      "BUSINESS : 1712290.1474201474\n",
      "COMICS : 817657.2727272727\n",
      "COMMUNICATION : 38456119.167247385\n",
      "DATING : 854028.8303030303\n",
      "EDUCATION : 1833495.145631068\n",
      "ENTERTAINMENT : 11640705.88235294\n",
      "EVENTS : 253542.22222222222\n",
      "FINANCE : 1387692.475609756\n",
      "FOOD_AND_DRINK : 1924897.7363636363\n",
      "HEALTH_AND_FITNESS : 4188821.9853479853\n",
      "HOUSE_AND_HOME : 1331540.5616438356\n",
      "LIBRARIES_AND_DEMO : 638503.734939759\n",
      "LIFESTYLE : 1437816.2687861272\n",
      "GAME : 15588015.603248259\n",
      "FAMILY : 3695641.8198090694\n",
      "MEDICAL : 120550.61980830671\n",
      "SOCIAL : 23253652.127118643\n",
      "SHOPPING : 7036877.311557789\n",
      "PHOTOGRAPHY : 17840110.40229885\n",
      "SPORTS : 3638640.1428571427\n",
      "TRAVEL_AND_LOCAL : 13984077.710144928\n",
      "TOOLS : 10801391.298666667\n",
      "PERSONALIZATION : 5201482.6122448975\n",
      "PRODUCTIVITY : 16787331.344927534\n",
      "PARENTING : 542603.6206896552\n",
      "WEATHER : 5074486.197183099\n",
      "VIDEO_PLAYERS : 24727872.452830188\n",
      "NEWS_AND_MAGAZINES : 9549178.467741935\n",
      "MAPS_AND_NAVIGATION : 4056941.7741935486\n"
     ]
    }
   ],
   "source": [
    "category_android = freq_table(android_free, 1)\n",
    "\n",
    "for category in category_android:\n",
    "    total = 0 \n",
    "    len_category = 0\n",
    "    for app in android_free:\n",
    "        category_app = app[1] \n",
    "        if category_app == category:\n",
    "            n_installs = app[5]\n",
    "            n_installs = n_installs.replace('+', '')\n",
    "            n_installs = n_installs.replace(',', '')\n",
    "            total += float(n_installs)\n",
    "            len_category += 1 \n",
    "            \n",
    "    avg_n_installs = total / len_category\n",
    "    print(category, ':', avg_n_installs)"
   ]
  },
  {
   "cell_type": "code",
   "execution_count": 30,
   "metadata": {},
   "outputs": [
    {
     "name": "stdout",
     "output_type": "stream",
     "text": [
      "E-Book Read - Read Book for free : 50,000+\n",
      "Download free book with green book : 100,000+\n",
      "Wikipedia : 10,000,000+\n",
      "Cool Reader : 10,000,000+\n",
      "Free Panda Radio Music : 100,000+\n",
      "Book store : 1,000,000+\n",
      "FBReader: Favorite Book Reader : 10,000,000+\n",
      "English Grammar Complete Handbook : 500,000+\n",
      "Free Books - Spirit Fanfiction and Stories : 1,000,000+\n",
      "Google Play Books : 1,000,000,000+\n",
      "AlReader -any text book reader : 5,000,000+\n",
      "Offline English Dictionary : 100,000+\n",
      "Offline: English to Tagalog Dictionary : 500,000+\n",
      "FamilySearch Tree : 1,000,000+\n",
      "Cloud of Books : 1,000,000+\n",
      "Recipes of Prophetic Medicine for free : 500,000+\n",
      "ReadEra – free ebook reader : 1,000,000+\n",
      "Anonymous caller detection : 10,000+\n",
      "Ebook Reader : 5,000,000+\n",
      "Litnet - E-books : 100,000+\n",
      "Read books online : 5,000,000+\n",
      "English to Urdu Dictionary : 500,000+\n",
      "eBoox: book reader fb2 epub zip : 1,000,000+\n",
      "English Persian Dictionary : 500,000+\n",
      "Flybook : 500,000+\n",
      "All Maths Formulas : 1,000,000+\n",
      "Ancestry : 5,000,000+\n",
      "HTC Help : 10,000,000+\n",
      "English translation from Bengali : 100,000+\n",
      "Pdf Book Download - Read Pdf Book : 100,000+\n",
      "Free Book Reader : 100,000+\n",
      "eBoox new: Reader for fb2 epub zip books : 50,000+\n",
      "Only 30 days in English, the guideline is guaranteed : 500,000+\n",
      "Moon+ Reader : 10,000,000+\n",
      "SH-02J Owner's Manual (Android 8.0) : 50,000+\n",
      "English-Myanmar Dictionary : 1,000,000+\n",
      "Golden Dictionary (EN-AR) : 1,000,000+\n",
      "All Language Translator Free : 1,000,000+\n",
      "Azpen eReader : 500,000+\n",
      "URBANO V 02 instruction manual : 100,000+\n",
      "Bible : 100,000,000+\n",
      "C Programs and Reference : 50,000+\n",
      "C Offline Tutorial : 1,000+\n",
      "C Programs Handbook : 50,000+\n",
      "Amazon Kindle : 100,000,000+\n",
      "Aab e Hayat Full Novel : 100,000+\n",
      "Aldiko Book Reader : 10,000,000+\n",
      "Google I/O 2018 : 500,000+\n",
      "R Language Reference Guide : 10,000+\n",
      "Learn R Programming Full : 5,000+\n",
      "R Programing Offline Tutorial : 1,000+\n",
      "Guide for R Programming : 5+\n",
      "Learn R Programming : 10+\n",
      "R Quick Reference Big Data : 1,000+\n",
      "V Made : 100,000+\n",
      "Wattpad 📖 Free Books : 100,000,000+\n",
      "Dictionary - WordWeb : 5,000,000+\n",
      "Guide (for X-MEN) : 100,000+\n",
      "AC Air condition Troubleshoot,Repair,Maintenance : 5,000+\n",
      "AE Bulletins : 1,000+\n",
      "Ae Allah na Dai (Rasa) : 10,000+\n",
      "50000 Free eBooks & Free AudioBooks : 5,000,000+\n",
      "Ag PhD Field Guide : 10,000+\n",
      "Ag PhD Deficiencies : 10,000+\n",
      "Ag PhD Planting Population Calculator : 1,000+\n",
      "Ag PhD Soybean Diseases : 1,000+\n",
      "Fertilizer Removal By Crop : 50,000+\n",
      "A-J Media Vault : 50+\n",
      "Al-Quran (Free) : 10,000,000+\n",
      "Al Quran (Tafsir & by Word) : 500,000+\n",
      "Al Quran Indonesia : 10,000,000+\n",
      "Al'Quran Bahasa Indonesia : 10,000,000+\n",
      "Al Quran Al karim : 1,000,000+\n",
      "Al-Muhaffiz : 50,000+\n",
      "Al Quran : EAlim - Translations & MP3 Offline : 5,000,000+\n",
      "Al-Quran 30 Juz free copies : 500,000+\n",
      "Koran Read &MP3 30 Juz Offline : 1,000,000+\n",
      "Hafizi Quran 15 lines per page : 1,000,000+\n",
      "Quran for Android : 10,000,000+\n",
      "Surah Al-Waqiah : 100,000+\n",
      "Hisnul Al Muslim - Hisn Invocations & Adhkaar : 100,000+\n",
      "Satellite AR : 1,000,000+\n",
      "Audiobooks from Audible : 100,000,000+\n",
      "Kinot & Eichah for Tisha B'Av : 10,000+\n",
      "AW Tozer Devotionals - Daily : 5,000+\n",
      "Tozer Devotional -Series 1 : 1,000+\n",
      "The Pursuit of God : 1,000+\n",
      "AY Sing : 5,000+\n",
      "Ay Hasnain k Nana Milad Naat : 10,000+\n",
      "Ay Mohabbat Teri Khatir Novel : 10,000+\n",
      "Arizona Statutes, ARS (AZ Law) : 1,000+\n",
      "Oxford A-Z of English Usage : 1,000,000+\n",
      "BD Fishpedia : 1,000+\n",
      "BD All Sim Offer : 10,000+\n",
      "Youboox - Livres, BD et magazines : 500,000+\n",
      "B&H Kids AR : 10,000+\n",
      "B y H Niños ES : 5,000+\n",
      "Dictionary.com: Find Definitions for English Words : 10,000,000+\n",
      "English Dictionary - Offline : 10,000,000+\n",
      "Bible KJV : 5,000,000+\n",
      "Borneo Bible, BM Bible : 10,000+\n",
      "MOD Black for BM : 100+\n",
      "BM Box : 1,000+\n",
      "Anime Mod for BM : 100+\n",
      "NOOK: Read eBooks & Magazines : 10,000,000+\n",
      "NOOK Audiobooks : 500,000+\n",
      "NOOK App for NOOK Devices : 500,000+\n",
      "Browsery by Barnes & Noble : 5,000+\n",
      "bp e-store : 1,000+\n",
      "Brilliant Quotes: Life, Love, Family & Motivation : 1,000,000+\n",
      "BR Ambedkar Biography & Quotes : 10,000+\n",
      "BU Alsace : 100+\n",
      "Catholic La Bu Zo Kam : 500+\n",
      "Khrifa Hla Bu (Solfa) : 10+\n",
      "Kristian Hla Bu : 10,000+\n",
      "SA HLA BU : 1,000+\n",
      "Learn SAP BW : 500+\n",
      "Learn SAP BW on HANA : 500+\n",
      "CA Laws 2018 (California Laws and Codes) : 5,000+\n",
      "Bootable Methods(USB-CD-DVD) : 10,000+\n",
      "cloudLibrary : 100,000+\n",
      "SDA Collegiate Quarterly : 500+\n",
      "Sabbath School : 100,000+\n",
      "Cypress College Library : 100+\n",
      "Stats Royale for Clash Royale : 1,000,000+\n",
      "GATE 21 years CS Papers(2011-2018 Solved) : 50+\n",
      "Learn CT Scan Of Head : 5,000+\n",
      "Easy Cv maker 2018 : 10,000+\n",
      "How to Write CV : 100,000+\n",
      "CW Nuclear : 1,000+\n",
      "CY Spray nozzle : 10+\n",
      "BibleRead En Cy Zh Yue : 5+\n",
      "CZ-Help : 5+\n",
      "Modlitební knížka CZ : 500+\n",
      "Guide for DB Xenoverse : 10,000+\n",
      "Guide for DB Xenoverse 2 : 10,000+\n",
      "Guide for IMS DB : 10+\n",
      "DC HSEMA : 5,000+\n",
      "DC Public Library : 1,000+\n",
      "Painting Lulu DC Super Friends : 1,000+\n",
      "Dictionary : 10,000,000+\n",
      "Fix Error Google Playstore : 1,000+\n",
      "D. H. Lawrence Poems FREE : 1,000+\n",
      "Bilingual Dictionary Audio App : 5,000+\n",
      "DM Screen : 10,000+\n",
      "wikiHow: how to do anything : 1,000,000+\n",
      "Dr. Doug's Tips : 1,000+\n",
      "Bible du Semeur-BDS (French) : 50,000+\n",
      "La citadelle du musulman : 50,000+\n",
      "DV 2019 Entry Guide : 10,000+\n",
      "DV 2019 - EDV Photo & Form : 50,000+\n",
      "DV 2018 Winners Guide : 1,000+\n",
      "EB Annual Meetings : 1,000+\n",
      "EC - AP & Telangana : 5,000+\n",
      "TN Patta Citta & EC : 10,000+\n",
      "AP Stamps and Registration : 10,000+\n",
      "CompactiMa EC pH Calibration : 100+\n",
      "EGW Writings 2 : 100,000+\n",
      "EGW Writings : 1,000,000+\n",
      "Bible with EGW Comments : 100,000+\n",
      "My Little Pony AR Guide : 1,000,000+\n",
      "SDA Sabbath School Quarterly : 500,000+\n",
      "Duaa Ek Ibaadat : 5,000+\n",
      "Spanish English Translator : 10,000,000+\n",
      "Dictionary - Merriam-Webster : 10,000,000+\n",
      "JW Library : 10,000,000+\n",
      "Oxford Dictionary of English : Free : 10,000,000+\n",
      "English Hindi Dictionary : 10,000,000+\n",
      "English to Hindi Dictionary : 5,000,000+\n",
      "EP Research Service : 1,000+\n",
      "Hymnes et Louanges : 100,000+\n",
      "EU Charter : 1,000+\n",
      "EU Data Protection : 1,000+\n",
      "EU IP Codes : 100+\n",
      "EW PDF : 5+\n",
      "BakaReader EX : 100,000+\n",
      "EZ Quran : 50,000+\n",
      "FA Part 1 & 2 Past Papers Solved Free – Offline : 5,000+\n",
      "La Fe de Jesus : 1,000+\n",
      "La Fe de Jesús : 500+\n",
      "Le Fe de Jesus : 500+\n",
      "Florida - Pocket Brainbook : 1,000+\n",
      "Florida Statutes (FL Code) : 1,000+\n",
      "English To Shona Dictionary : 10,000+\n",
      "Greek Bible FP (Audio) : 1,000+\n",
      "Golden Dictionary (FR-AR) : 500,000+\n",
      "Fanfic-FR : 5,000+\n",
      "Bulgarian French Dictionary Fr : 10,000+\n",
      "Chemin (fr) : 1,000+\n",
      "The SCP Foundation DB fr nn5n : 1,000+\n"
     ]
    }
   ],
   "source": [
    "for app in android_free:\n",
    "    if app[1] == 'BOOKS_AND_REFERENCE':\n",
    "        print(app[0], ':', app[5])"
   ]
  }
 ],
 "metadata": {
  "kernelspec": {
   "display_name": "Python 3",
   "language": "python",
   "name": "python3"
  },
  "language_info": {
   "codemirror_mode": {
    "name": "ipython",
    "version": 3
   },
   "file_extension": ".py",
   "mimetype": "text/x-python",
   "name": "python",
   "nbconvert_exporter": "python",
   "pygments_lexer": "ipython3",
   "version": "3.7.4"
  }
 },
 "nbformat": 4,
 "nbformat_minor": 2
}
